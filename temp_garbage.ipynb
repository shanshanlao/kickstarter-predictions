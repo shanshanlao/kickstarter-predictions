{
 "cells": [
  {
   "cell_type": "code",
   "execution_count": null,
   "metadata": {},
   "outputs": [],
   "source": []
  },
  {
   "cell_type": "code",
   "execution_count": null,
   "metadata": {},
   "outputs": [],
   "source": [
    "frac = round(len(df)/10)\n",
    "df_split1 = df.iloc[:frac,:]\n",
    "df_split2 = df.iloc[frac:frac*2,:]\n",
    "df_split3 = df.iloc[frac*2:frac*3,:]\n",
    "df_split4 = df.iloc[frac*3:frac*4,:]\n",
    "df_split5 = df.iloc[frac*4:frac*5,:]\n",
    "df_split6 = df.iloc[frac*5:frac*6,:]\n",
    "df_split7 = df.iloc[frac*6:frac*7,:]\n",
    "df_split8 = df.iloc[frac*7:frac*8,:]\n",
    "df_split9 = df.iloc[frac*8:frac*9,:]\n",
    "df_split10 = df.iloc[frac*9:,:]\n",
    "print(\"Shape of new dataframes - {} , {} , {} ,{} ,{} \".format(df_split1.shape, df_split2.shape, df_split3.shape,df_split4.shape,df_split5.shape))\n",
    "\n",
    "df_all = {'df1': df_split1, 'df2': df_split2, 'df3': df_split3, 'df4': df_split4, 'df5': df_split5, \n",
    "         'df6': df_split6, 'df7': df_split7, 'df8': df_split8, 'df9': df_split9, 'df10': df_split10}\n"
   ]
  },
  {
   "cell_type": "markdown",
   "metadata": {},
   "source": [
    "### Lazy Classifier"
   ]
  },
  {
   "cell_type": "code",
   "execution_count": null,
   "metadata": {},
   "outputs": [],
   "source": [
    "import lazypredict\n",
    "from lazypredict.Supervised import LazyClassifier\n",
    "\n",
    "clf = LazyClassifier(verbose=0,ignore_warnings=True, custom_metric=None)\n",
    "models,predictions = clf.fit(X_train, X_test, y_train, y_test)\n",
    "\n",
    "print(models)"
   ]
  },
  {
   "cell_type": "code",
   "execution_count": null,
   "metadata": {},
   "outputs": [],
   "source": [
    "### PCA\n",
    "from sklearn.decomposition import PCA\n",
    "pca = PCA(n_components=3)\n",
    "\n",
    "pca.fit(X_std)\n",
    "X_new = pca.transform(X_std)\n",
    "\n",
    "X_train, X_test, y_train, y_test = train_test_split(X_new,y,test_size=0.30, random_state=5)"
   ]
  },
  {
   "cell_type": "markdown",
   "metadata": {},
   "source": [
    "### 2.1 Using LASSO"
   ]
  },
  {
   "cell_type": "code",
   "execution_count": null,
   "metadata": {},
   "outputs": [
    {
     "data": {
      "text/html": [
       "<div>\n",
       "<style scoped>\n",
       "    .dataframe tbody tr th:only-of-type {\n",
       "        vertical-align: middle;\n",
       "    }\n",
       "\n",
       "    .dataframe tbody tr th {\n",
       "        vertical-align: top;\n",
       "    }\n",
       "\n",
       "    .dataframe thead th {\n",
       "        text-align: right;\n",
       "    }\n",
       "</style>\n",
       "<table border=\"1\" class=\"dataframe\">\n",
       "  <thead>\n",
       "    <tr style=\"text-align: right;\">\n",
       "      <th></th>\n",
       "      <th>predictor</th>\n",
       "      <th>coefficient</th>\n",
       "    </tr>\n",
       "  </thead>\n",
       "  <tbody>\n",
       "    <tr>\n",
       "      <th>11</th>\n",
       "      <td>category_Web</td>\n",
       "      <td>-0.090653</td>\n",
       "    </tr>\n",
       "    <tr>\n",
       "      <th>19</th>\n",
       "      <td>category_Software</td>\n",
       "      <td>-0.073722</td>\n",
       "    </tr>\n",
       "    <tr>\n",
       "      <th>18</th>\n",
       "      <td>deadline_yr</td>\n",
       "      <td>-0.041465</td>\n",
       "    </tr>\n",
       "    <tr>\n",
       "      <th>6</th>\n",
       "      <td>launch_to_deadline_days</td>\n",
       "      <td>-0.035419</td>\n",
       "    </tr>\n",
       "    <tr>\n",
       "      <th>4</th>\n",
       "      <td>launched_at_hr</td>\n",
       "      <td>-0.012610</td>\n",
       "    </tr>\n",
       "    <tr>\n",
       "      <th>24</th>\n",
       "      <td>category_Musical</td>\n",
       "      <td>0.024088</td>\n",
       "    </tr>\n",
       "    <tr>\n",
       "      <th>23</th>\n",
       "      <td>category_Festivals</td>\n",
       "      <td>0.027543</td>\n",
       "    </tr>\n",
       "    <tr>\n",
       "      <th>21</th>\n",
       "      <td>category_Plays</td>\n",
       "      <td>0.043206</td>\n",
       "    </tr>\n",
       "    <tr>\n",
       "      <th>2</th>\n",
       "      <td>name_len</td>\n",
       "      <td>0.047555</td>\n",
       "    </tr>\n",
       "  </tbody>\n",
       "</table>\n",
       "</div>"
      ],
      "text/plain": [
       "                  predictor  coefficient\n",
       "11             category_Web    -0.090653\n",
       "19        category_Software    -0.073722\n",
       "18              deadline_yr    -0.041465\n",
       "6   launch_to_deadline_days    -0.035419\n",
       "4            launched_at_hr    -0.012610\n",
       "24         category_Musical     0.024088\n",
       "23       category_Festivals     0.027543\n",
       "21           category_Plays     0.043206\n",
       "2                  name_len     0.047555"
      ]
     },
     "metadata": {},
     "output_type": "display_data"
    }
   ],
   "source": [
    "# Run LASSO\n",
    "from sklearn.linear_model import Lasso\n",
    "lasso = Lasso(alpha=0.01)\n",
    "model_lasso = lasso.fit(X_std,y)\n",
    "\n",
    "model_lasso.coef_\n",
    "\n",
    "test = pd.DataFrame(list(zip(X.columns,model_lasso.coef_)), columns = ['predictor','coefficient'])\n",
    "test[abs(test['coefficient']) >= 0.01].sort_values(by = 'coefficient')"
   ]
  },
  {
   "cell_type": "markdown",
   "metadata": {},
   "source": [
    "### 2.3 Recursive Feature Elimination"
   ]
  },
  {
   "cell_type": "code",
   "execution_count": null,
   "metadata": {},
   "outputs": [
    {
     "data": {
      "text/html": [
       "<div>\n",
       "<style scoped>\n",
       "    .dataframe tbody tr th:only-of-type {\n",
       "        vertical-align: middle;\n",
       "    }\n",
       "\n",
       "    .dataframe tbody tr th {\n",
       "        vertical-align: top;\n",
       "    }\n",
       "\n",
       "    .dataframe thead th {\n",
       "        text-align: right;\n",
       "    }\n",
       "</style>\n",
       "<table border=\"1\" class=\"dataframe\">\n",
       "  <thead>\n",
       "    <tr style=\"text-align: right;\">\n",
       "      <th></th>\n",
       "      <th>predictor</th>\n",
       "      <th>ranking</th>\n",
       "    </tr>\n",
       "  </thead>\n",
       "  <tbody>\n",
       "    <tr>\n",
       "      <th>2</th>\n",
       "      <td>name_len</td>\n",
       "      <td>1</td>\n",
       "    </tr>\n",
       "    <tr>\n",
       "      <th>11</th>\n",
       "      <td>category_Web</td>\n",
       "      <td>1</td>\n",
       "    </tr>\n",
       "    <tr>\n",
       "      <th>16</th>\n",
       "      <td>launched_at_weekday</td>\n",
       "      <td>1</td>\n",
       "    </tr>\n",
       "    <tr>\n",
       "      <th>17</th>\n",
       "      <td>deadline_weekday</td>\n",
       "      <td>1</td>\n",
       "    </tr>\n",
       "    <tr>\n",
       "      <th>19</th>\n",
       "      <td>category_Software</td>\n",
       "      <td>1</td>\n",
       "    </tr>\n",
       "    <tr>\n",
       "      <th>20</th>\n",
       "      <td>static_usd_rate</td>\n",
       "      <td>1</td>\n",
       "    </tr>\n",
       "    <tr>\n",
       "      <th>21</th>\n",
       "      <td>category_Plays</td>\n",
       "      <td>1</td>\n",
       "    </tr>\n",
       "    <tr>\n",
       "      <th>22</th>\n",
       "      <td>category_Hardware</td>\n",
       "      <td>1</td>\n",
       "    </tr>\n",
       "    <tr>\n",
       "      <th>23</th>\n",
       "      <td>category_Festivals</td>\n",
       "      <td>1</td>\n",
       "    </tr>\n",
       "    <tr>\n",
       "      <th>24</th>\n",
       "      <td>category_Musical</td>\n",
       "      <td>1</td>\n",
       "    </tr>\n",
       "  </tbody>\n",
       "</table>\n",
       "</div>"
      ],
      "text/plain": [
       "              predictor  ranking\n",
       "2              name_len        1\n",
       "11         category_Web        1\n",
       "16  launched_at_weekday        1\n",
       "17     deadline_weekday        1\n",
       "19    category_Software        1\n",
       "20      static_usd_rate        1\n",
       "21       category_Plays        1\n",
       "22    category_Hardware        1\n",
       "23   category_Festivals        1\n",
       "24     category_Musical        1"
      ]
     },
     "metadata": {},
     "output_type": "display_data"
    }
   ],
   "source": [
    "from sklearn.feature_selection import RFE\n",
    "from sklearn.linear_model import LogisticRegression\n",
    "\n",
    "lr = LogisticRegression(max_iter=5000)\n",
    "rfe = RFE(lr, n_features_to_select=10) \n",
    "model = rfe.fit(X,y)\n",
    "\n",
    "# Running logistics regression with different combination of predictors\n",
    "model.support_\n",
    "temp = pd.DataFrame(list(zip(X.columns,model.ranking_)), \n",
    "             columns = ['predictor','ranking'])\n",
    "\n",
    "temp[temp['ranking']==1]"
   ]
  }
 ],
 "metadata": {
  "kernelspec": {
   "display_name": "Python 3.10.8 64-bit (microsoft store)",
   "language": "python",
   "name": "python3"
  },
  "language_info": {
   "name": "python",
   "version": "3.10.8"
  },
  "orig_nbformat": 4,
  "vscode": {
   "interpreter": {
    "hash": "eb8d3085d426e5e8dee3252ffbadecffc2a8c816985f9d79249a1de42c265c0a"
   }
  }
 },
 "nbformat": 4,
 "nbformat_minor": 2
}
